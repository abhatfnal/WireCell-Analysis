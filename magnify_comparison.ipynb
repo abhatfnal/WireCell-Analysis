{
 "cells": [
  {
   "cell_type": "code",
   "execution_count": 1,
   "metadata": {},
   "outputs": [],
   "source": [
    "import uproot\n",
    "import pandas as pd\n",
    "import numpy as np\n",
    "import matplotlib.pyplot as plt\n",
    "import awkward as ak\n",
    "# plt.style.use('style.mplstyle')\n",
    "# colors = plt.rcParams['axes.prop_cycle'].by_key()['color']"
   ]
  },
  {
   "cell_type": "code",
   "execution_count": 2,
   "metadata": {},
   "outputs": [],
   "source": [
    "SBND_f=uproot.open('/sbnd/data/users/lynnt/wirecell/test_20_celltree.root')\n",
    "ProtoDUNE_f=uproot.open('/sbnd/app/users/abhat/sbndcode_v09_37_02_02/software/Magnify-protodune/magnify_5152_89-v2.root')"
   ]
  },
  {
   "cell_type": "code",
   "execution_count": 3,
   "metadata": {},
   "outputs": [
    {
     "data": {
      "text/plain": [
       "['version;1', 'Event;1', 'Event/Sim;3', 'Event/Sim;2']"
      ]
     },
     "execution_count": 3,
     "metadata": {},
     "output_type": "execute_result"
    }
   ],
   "source": [
    "SBND_f.keys()"
   ]
  },
  {
   "cell_type": "code",
   "execution_count": 4,
   "metadata": {},
   "outputs": [],
   "source": [
    "SBND_f=uproot.open('/sbnd/data/users/lynnt/wirecell/test_20_celltree.root')['Event']['Sim']\n"
   ]
  },
  {
   "cell_type": "code",
   "execution_count": 5,
   "metadata": {},
   "outputs": [],
   "source": [
    "tree=SBND_f"
   ]
  },
  {
   "cell_type": "code",
   "execution_count": 6,
   "metadata": {},
   "outputs": [
    {
     "data": {
      "text/plain": [
       "['eventNo',\n",
       " 'runNo',\n",
       " 'subRunNo',\n",
       " 'eventTime',\n",
       " 'triggerNo',\n",
       " 'triggerTime',\n",
       " 'beamgateTime',\n",
       " 'triggerBits',\n",
       " 'raw_nChannel',\n",
       " 'raw_channelId',\n",
       " 'raw_wf',\n",
       " 'calib_nChannel',\n",
       " 'calib_channelId',\n",
       " 'calib_wf',\n",
       " 'oh_nHits',\n",
       " 'oh_channel',\n",
       " 'oh_bgtime',\n",
       " 'oh_trigtime',\n",
       " 'oh_pe',\n",
       " 'of_nFlash',\n",
       " 'of_t',\n",
       " 'of_peTotal',\n",
       " 'of_multiplicity',\n",
       " 'pe_opdet',\n",
       " 'simide_size',\n",
       " 'simide_channelIdY',\n",
       " 'simide_trackId',\n",
       " 'simide_tdc',\n",
       " 'simide_x',\n",
       " 'simide_y',\n",
       " 'simide_z',\n",
       " 'simide_numElectrons',\n",
       " 'mc_Ntrack',\n",
       " 'mc_id',\n",
       " 'mc_pdg',\n",
       " 'mc_process',\n",
       " 'mc_mother',\n",
       " 'mc_daughters',\n",
       " 'mc_startXYZT',\n",
       " 'mc_endXYZT',\n",
       " 'mc_startMomentum',\n",
       " 'mc_endMomentum',\n",
       " 'mc_trackPosition',\n",
       " 'mc_isnu',\n",
       " 'mc_nGeniePrimaries',\n",
       " 'mc_nu_pdg',\n",
       " 'mc_nu_ccnc',\n",
       " 'mc_nu_mode',\n",
       " 'mc_nu_intType',\n",
       " 'mc_nu_target',\n",
       " 'mc_hitnuc',\n",
       " 'mc_hitquark',\n",
       " 'mc_nu_Q2',\n",
       " 'mc_nu_W',\n",
       " 'mc_nu_X',\n",
       " 'mc_nu_Y',\n",
       " 'mc_nu_Pt',\n",
       " 'mc_nu_Theta',\n",
       " 'mc_nu_pos',\n",
       " 'mc_nu_mom']"
      ]
     },
     "execution_count": 6,
     "metadata": {},
     "output_type": "execute_result"
    }
   ],
   "source": [
    "tree.keys()"
   ]
  },
  {
   "cell_type": "code",
   "execution_count": 7,
   "metadata": {},
   "outputs": [
    {
     "data": {
      "text/plain": [
       "{'hu_orig;1': 'TH2I',\n",
       " 'hv_orig;1': 'TH2I',\n",
       " 'hw_orig;1': 'TH2I',\n",
       " 'hu_raw;1': 'TH2F',\n",
       " 'hv_raw;1': 'TH2F',\n",
       " 'hw_raw;1': 'TH2F',\n",
       " 'hu_decon;1': 'TH2F',\n",
       " 'hv_decon;1': 'TH2F',\n",
       " 'hw_decon;1': 'TH2F',\n",
       " 'hu_threshold;1': 'TH1I',\n",
       " 'hv_threshold;1': 'TH1I',\n",
       " 'hw_threshold;1': 'TH1I',\n",
       " 'T_bad;1': 'TTree'}"
      ]
     },
     "execution_count": 7,
     "metadata": {},
     "output_type": "execute_result"
    }
   ],
   "source": [
    "ProtoDUNE_f.classnames()"
   ]
  },
  {
   "cell_type": "code",
   "execution_count": 8,
   "metadata": {},
   "outputs": [
    {
     "data": {
      "text/plain": [
       "<TTree 'T_bad' (4 branches) at 0x7fada98ce940>"
      ]
     },
     "execution_count": 8,
     "metadata": {},
     "output_type": "execute_result"
    }
   ],
   "source": [
    "ProtoDUNE_f['T_bad']"
   ]
  },
  {
   "cell_type": "code",
   "execution_count": 9,
   "metadata": {},
   "outputs": [],
   "source": [
    "tree=ProtoDUNE_f['T_bad']"
   ]
  },
  {
   "cell_type": "code",
   "execution_count": 10,
   "metadata": {},
   "outputs": [
    {
     "data": {
      "text/plain": [
       "['chid', 'plane', 'start_time', 'end_time']"
      ]
     },
     "execution_count": 10,
     "metadata": {},
     "output_type": "execute_result"
    }
   ],
   "source": [
    "tree.keys()"
   ]
  },
  {
   "cell_type": "code",
   "execution_count": 11,
   "metadata": {},
   "outputs": [],
   "source": [
    "branches=tree.arrays()"
   ]
  },
  {
   "cell_type": "code",
   "execution_count": 12,
   "metadata": {},
   "outputs": [
    {
     "data": {
      "text/plain": [
       "<Array [0, 0, 0, 0, 0, 0, ... 0, 0, 0, 0, 0, 0] type='1629 * int32'>"
      ]
     },
     "execution_count": 12,
     "metadata": {},
     "output_type": "execute_result"
    }
   ],
   "source": [
    "branches['start_time']"
   ]
  },
  {
   "cell_type": "code",
   "execution_count": 13,
   "metadata": {},
   "outputs": [
    {
     "data": {
      "text/plain": [
       "0"
      ]
     },
     "execution_count": 13,
     "metadata": {},
     "output_type": "execute_result"
    }
   ],
   "source": [
    "branches['start_time'][0]"
   ]
  },
  {
   "cell_type": "code",
   "execution_count": 14,
   "metadata": {},
   "outputs": [
    {
     "data": {
      "image/png": "[encoded data removed]",
      "text/plain": [
       "<Figure size 576x432 with 1 Axes>"
      ]
     },
     "metadata": {
      "needs_background": "light"
     },
     "output_type": "display_data"
    }
   ],
   "source": [
    "plt.figure(figsize=(8,6))\n",
    "BINS=np.arange(1000,18000,1)\n",
    "plt.hist(branches['chid'],bins=BINS)\n",
    "plt.show()"
   ]
  },
  {
   "cell_type": "code",
   "execution_count": 15,
   "metadata": {},
   "outputs": [],
   "source": [
    "branches=ProtoDUNE_f['hu_decon']"
   ]
  },
  {
   "cell_type": "code",
   "execution_count": 16,
   "metadata": {},
   "outputs": [
    {
     "data": {
      "text/plain": [
       "<TH2F (version 3) at 0x7fada98eec18>"
      ]
     },
     "execution_count": 16,
     "metadata": {},
     "output_type": "execute_result"
    }
   ],
   "source": [
    "branches"
   ]
  },
  {
   "cell_type": "code",
   "execution_count": 17,
   "metadata": {},
   "outputs": [
    {
     "name": "stdout",
     "output_type": "stream",
     "text": [
      "<TH2F (version 3) at 0x7fada98eec18>\n"
     ]
    }
   ],
   "source": [
    "print(branches)"
   ]
  }
 ],
 "metadata": {
  "kernelspec": {
   "display_name": ".venv",
   "language": "python",
   "name": "python3"
  },
  "language_info": {
   "codemirror_mode": {
    "name": "ipython",
    "version": 3
   },
   "file_extension": ".py",
   "mimetype": "text/x-python",
   "name": "python",
   "nbconvert_exporter": "python",
   "pygments_lexer": "ipython3",
   "version": "3.6.8"
  },
  "orig_nbformat": 4
 },
 "nbformat": 4,
 "nbformat_minor": 2
}
