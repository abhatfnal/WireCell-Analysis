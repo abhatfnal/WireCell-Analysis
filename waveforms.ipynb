{
 "cells": [
  {
   "cell_type": "code",
   "execution_count": 1,
   "metadata": {},
   "outputs": [],
   "source": [
    "import uproot\n",
    "# import matplotlib as mpl\n",
    "\n",
    "import matplotlib.pyplot as plt\n",
    "# plt.style.use('style.mplstyle')\n",
    "import mplhep\n",
    "import numpy as np\n",
    "from scipy.optimize import curve_fit\n",
    "from scipy.signal import find_peaks\n",
    "# mpl.rcParams.update(mpl.rcParamsDefault)"
   ]
  },
  {
   "cell_type": "code",
   "execution_count": 2,
   "metadata": {},
   "outputs": [],
   "source": [
    "file = uproot.open(\"/sbnd/data/users/lynnt/wirecell/waveform.root\")\n",
    "raw = file['h1'].to_hist()\n",
    "dec = file['h2'].to_hist()\n",
    "sim = file['h3'].to_hist()\n"
   ]
  },
  {
   "cell_type": "code",
   "execution_count": 3,
   "metadata": {},
   "outputs": [],
   "source": [
    "# data_array=[raw.values(),dec.values(),sim.values()]\n",
    "data_array=[dec.values(),sim.values()]\n",
    "labels=['decon','sim']"
   ]
  },
  {
   "cell_type": "code",
   "execution_count": 4,
   "metadata": {},
   "outputs": [],
   "source": [
    "def gauss(x,a,mu,sigma):\n",
    "    return a*np.exp(-0.5*((x-mu)/sigma)**2)"
   ]
  },
  {
   "cell_type": "code",
   "execution_count": 5,
   "metadata": {},
   "outputs": [],
   "source": [
    "min_chID=0\n",
    "max_chID = 11264"
   ]
  },
  {
   "cell_type": "code",
   "execution_count": 6,
   "metadata": {},
   "outputs": [],
   "source": [
    "\n",
    "\n",
    "# plt.figure(figsize=(8,5))\n",
    "integral_diff=[]\n",
    "integral_diff_fit=[]\n",
    "\n",
    "for channel in range(max_chID):\n",
    "\n",
    "    # print(\"Channel #:\",channel)\n",
    "\n",
    "    total_integ=[]\n",
    "    total_fit_integ=[]\n",
    "\n",
    "    for i,data in enumerate(data_array):\n",
    "        \n",
    "        total_integral_value=0\n",
    "        total_fit_integ=0\n",
    "        peaks, pdict = find_peaks(data[channel,:],height=200,prominence=10,width=1,distance=5)\n",
    "        # print(pdict)\n",
    "        # mplhep.histplot(data[channel,:],yerr=False,histtype='step',label=labels[i],alpha=50)\n",
    "\n",
    "        xvals = np.linspace(0,len(data[channel,:]),len(data[channel,:]))\n",
    "        \n",
    "\n",
    "        for adc in data[channel,:]:\n",
    "            if (adc>0):\n",
    "                total_integral_value+=adc\n",
    "        total_integ.append(total_integral_value)\n",
    "\n",
    "        # print(str(total_integral_value)+\" for \"+str(labels[i]))\n",
    "        # print(total_integ)\n",
    "    # print((total_integ[0]-total_integ[1])/total_integ[1])\n",
    "    if (total_integ[1]!=0):\n",
    "        integral_diff.append((total_integ[1]-total_integ[0])/total_integ[1])    \n",
    "    else:\n",
    "        integral_diff.append(-2.0)\n",
    "      \n",
    "\n",
    "\n",
    "\n",
    "        # if (len(peaks)>0):\n",
    "                        \n",
    "        #     plt.plot(peaks,pdict['peak_heights'],'*',markersize=10)\n",
    "        #     # print(\"number of peaks:\", len(peaks))\n",
    "            \n",
    "\n",
    "        #     for j in range(len(peaks)):\n",
    "        #         peak_idx = j\n",
    "        #         x0 = xvals[pdict['left_bases'][peak_idx]:pdict['right_bases'][peak_idx]]\n",
    "        #         y0 = data[channel,:][pdict['left_bases'][peak_idx]:pdict['right_bases'][peak_idx]]\n",
    "        #         sim0 = data[channel,:][pdict['left_bases'][peak_idx]:pdict['right_bases'][peak_idx]]\n",
    "        #         popt, pcov = curve_fit(gauss, x0, y0, p0 = [pdict['peak_heights'][peak_idx],peaks[peak_idx],0.5*pdict['widths'][peak_idx]],maxfev=20000)\n",
    "        #         # try:\n",
    "        #         #     popt, pcov = curve_fit(gauss, x0, y0, p0 = [pdict['peak_heights'][peak_idx],peaks[peak_idx],0.5*pdict['widths'][peak_idx]],maxfev=10000)\n",
    "        #         # except:RuntimeError\n",
    "        #         # print(\"Error - curve_fit failed\") \n",
    "        #         # if (popt[1]<max_chID and popt[1]>min_chID):\n",
    "        #         mu=popt[1]\n",
    "        #         plt.plot(x0, gauss(x0,*popt),'-.k',lw=2)\n",
    "        #         # print(np.trapz(gauss(x0,*popt),x0))\n",
    "        #         total_fit_integ+=np.trapz(gauss(x0,*popt),x0,dx=np.diff(x0)[0])\n",
    "\n",
    "        # print(total_integ,total_fit_integ)\n",
    "\n",
    "    # print(total_integ[0]-total_integ[1])    \n",
    "    # plt.xlim(1150,1180)\n",
    "    # plt.ylim(0,200)\n",
    "    # plt.xlabel(\"ticks\")\n",
    "    # plt.legend()\n",
    "    # plt.title(channel)\n",
    "    # plt.savefig('good_peak_fit.pdf',dpi=500)\n",
    "    # plt.show()\n",
    "    \n",
    "\n",
    "    #4694\n",
    "    #6331"
   ]
  },
  {
   "cell_type": "code",
   "execution_count": 7,
   "metadata": {},
   "outputs": [
    {
     "data": {
      "image/png": "[encoded data removed]",
      "text/plain": [
       "<Figure size 576x360 with 1 Axes>"
      ]
     },
     "metadata": {
      "needs_background": "light"
     },
     "output_type": "display_data"
    }
   ],
   "source": [
    "plt.figure(figsize=(8,5))\n",
    "BINS=np.arange(-2.1,2.1,0.05)\n",
    "plt.hist(integral_diff,bins=BINS,histtype='step',lw=2)\n",
    "plt.xlabel('(Sim-Decon)/Sim')\n",
    "plt.ylabel('Counts')\n",
    "plt.grid()\n",
    "plt.savefig('comparison.pdf',dpi=500)\n",
    "plt.show()"
   ]
  },
  {
   "cell_type": "code",
   "execution_count": 8,
   "metadata": {},
   "outputs": [
    {
     "data": {
      "image/png": "[encoded data removed]",
      "text/plain": [
       "<Figure size 576x360 with 1 Axes>"
      ]
     },
     "metadata": {
      "needs_background": "light"
     },
     "output_type": "display_data"
    }
   ],
   "source": [
    "channel_idx=np.arange(0,len(integral_diff),1)\n",
    "plt.figure(figsize=(8,5))\n",
    "plt.plot(channel_idx,integral_diff,'o',markersize=2)\n",
    "plt.xlabel('Channel #')\n",
    "plt.ylabel('(Sim-Decon)/Sim')\n",
    "plt.ylim(-2.1,1.1)\n",
    "plt.grid()\n",
    "plt.savefig('channel_view.pdf',dpi=500)\n",
    "plt.show()"
   ]
  }
 ],
 "metadata": {
  "kernelspec": {
   "display_name": ".venv",
   "language": "python",
   "name": "python3"
  },
  "language_info": {
   "codemirror_mode": {
    "name": "ipython",
    "version": 3
   },
   "file_extension": ".py",
   "mimetype": "text/x-python",
   "name": "python",
   "nbconvert_exporter": "python",
   "pygments_lexer": "ipython3",
   "version": "3.6.8"
  },
  "orig_nbformat": 4
 },
 "nbformat": 4,
 "nbformat_minor": 2
}
